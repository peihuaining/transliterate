{
 "cells": [
  {
   "cell_type": "code",
   "execution_count": 1,
   "metadata": {},
   "outputs": [
    {
     "name": "stdout",
     "output_type": "stream",
     "text": [
      "Found existing installation: transliterate 2.10.2\n",
      "Uninstalling transliterate-2.10.2:\n",
      "  Successfully uninstalled transliterate-2.10.2\n"
     ]
    }
   ],
   "source": [
    "!pip uninstall transliterate -y"
   ]
  },
  {
   "cell_type": "code",
   "execution_count": 2,
   "metadata": {},
   "outputs": [],
   "source": [
    "import re"
   ]
  },
  {
   "cell_type": "code",
   "execution_count": 3,
   "metadata": {},
   "outputs": [
    {
     "name": "stdout",
     "output_type": "stream",
     "text": [
      "Python 3.6.8\r\n"
     ]
    }
   ],
   "source": [
    "!python --version"
   ]
  },
  {
   "cell_type": "code",
   "execution_count": 4,
   "metadata": {},
   "outputs": [
    {
     "name": "stdout",
     "output_type": "stream",
     "text": [
      "running build\n",
      "running build_py\n",
      "running egg_info\n",
      "writing src/transliterate.egg-info/PKG-INFO\n",
      "writing dependency_links to src/transliterate.egg-info/dependency_links.txt\n",
      "writing requirements to src/transliterate.egg-info/requires.txt\n",
      "writing top-level names to src/transliterate.egg-info/top_level.txt\n",
      "reading manifest file 'src/transliterate.egg-info/SOURCES.txt'\n",
      "reading manifest template 'MANIFEST.in'\n",
      "writing manifest file 'src/transliterate.egg-info/SOURCES.txt'\n"
     ]
    }
   ],
   "source": [
    "!python setup.py build"
   ]
  },
  {
   "cell_type": "code",
   "execution_count": 5,
   "metadata": {},
   "outputs": [
    {
     "name": "stdout",
     "output_type": "stream",
     "text": [
      "running install\n",
      "running bdist_egg\n",
      "running egg_info\n",
      "writing src/transliterate.egg-info/PKG-INFO\n",
      "writing dependency_links to src/transliterate.egg-info/dependency_links.txt\n",
      "writing requirements to src/transliterate.egg-info/requires.txt\n",
      "writing top-level names to src/transliterate.egg-info/top_level.txt\n",
      "reading manifest file 'src/transliterate.egg-info/SOURCES.txt'\n",
      "reading manifest template 'MANIFEST.in'\n",
      "writing manifest file 'src/transliterate.egg-info/SOURCES.txt'\n",
      "installing library code to build/bdist.macosx-11.3-x86_64/egg\n",
      "running install_lib\n",
      "running build_py\n",
      "creating build/bdist.macosx-11.3-x86_64/egg\n",
      "creating build/bdist.macosx-11.3-x86_64/egg/transliterate\n",
      "copying build/lib/transliterate/discover.py -> build/bdist.macosx-11.3-x86_64/egg/transliterate\n",
      "copying build/lib/transliterate/conf.py -> build/bdist.macosx-11.3-x86_64/egg/transliterate\n",
      "creating build/bdist.macosx-11.3-x86_64/egg/transliterate/tests\n",
      "copying build/lib/transliterate/tests/__init__.py -> build/bdist.macosx-11.3-x86_64/egg/transliterate/tests\n",
      "copying build/lib/transliterate/tests/defaults.py -> build/bdist.macosx-11.3-x86_64/egg/transliterate/tests\n",
      "copying build/lib/transliterate/tests/test_transliterate.py -> build/bdist.macosx-11.3-x86_64/egg/transliterate/tests\n",
      "creating build/bdist.macosx-11.3-x86_64/egg/transliterate/tests/data\n",
      "copying build/lib/transliterate/tests/data/__init__.py -> build/bdist.macosx-11.3-x86_64/egg/transliterate/tests/data\n",
      "copying build/lib/transliterate/tests/data/default.py -> build/bdist.macosx-11.3-x86_64/egg/transliterate/tests/data\n",
      "copying build/lib/transliterate/tests/helpers.py -> build/bdist.macosx-11.3-x86_64/egg/transliterate/tests\n",
      "copying build/lib/transliterate/tests/base.py -> build/bdist.macosx-11.3-x86_64/egg/transliterate/tests\n",
      "copying build/lib/transliterate/__init__.py -> build/bdist.macosx-11.3-x86_64/egg/transliterate\n",
      "creating build/bdist.macosx-11.3-x86_64/egg/transliterate/contrib\n",
      "copying build/lib/transliterate/contrib/__init__.py -> build/bdist.macosx-11.3-x86_64/egg/transliterate/contrib\n",
      "creating build/bdist.macosx-11.3-x86_64/egg/transliterate/contrib/languages\n",
      "creating build/bdist.macosx-11.3-x86_64/egg/transliterate/contrib/languages/he\n",
      "copying build/lib/transliterate/contrib/languages/he/__init__.py -> build/bdist.macosx-11.3-x86_64/egg/transliterate/contrib/languages/he\n",
      "copying build/lib/transliterate/contrib/languages/he/translit_language_pack.py -> build/bdist.macosx-11.3-x86_64/egg/transliterate/contrib/languages/he\n",
      "creating build/bdist.macosx-11.3-x86_64/egg/transliterate/contrib/languages/hy\n",
      "copying build/lib/transliterate/contrib/languages/hy/__init__.py -> build/bdist.macosx-11.3-x86_64/egg/transliterate/contrib/languages/hy\n",
      "copying build/lib/transliterate/contrib/languages/hy/translit_language_pack.py -> build/bdist.macosx-11.3-x86_64/egg/transliterate/contrib/languages/hy\n",
      "creating build/bdist.macosx-11.3-x86_64/egg/transliterate/contrib/languages/hy/data\n",
      "copying build/lib/transliterate/contrib/languages/hy/data/__init__.py -> build/bdist.macosx-11.3-x86_64/egg/transliterate/contrib/languages/hy/data\n",
      "copying build/lib/transliterate/contrib/languages/hy/data/default.py -> build/bdist.macosx-11.3-x86_64/egg/transliterate/contrib/languages/hy/data\n",
      "creating build/bdist.macosx-11.3-x86_64/egg/transliterate/contrib/languages/mn\n",
      "copying build/lib/transliterate/contrib/languages/mn/__init__.py -> build/bdist.macosx-11.3-x86_64/egg/transliterate/contrib/languages/mn\n",
      "copying build/lib/transliterate/contrib/languages/mn/translit_language_pack.py -> build/bdist.macosx-11.3-x86_64/egg/transliterate/contrib/languages/mn\n",
      "creating build/bdist.macosx-11.3-x86_64/egg/transliterate/contrib/languages/mn/data\n",
      "copying build/lib/transliterate/contrib/languages/mn/data/__init__.py -> build/bdist.macosx-11.3-x86_64/egg/transliterate/contrib/languages/mn/data\n",
      "copying build/lib/transliterate/contrib/languages/mn/data/default.py -> build/bdist.macosx-11.3-x86_64/egg/transliterate/contrib/languages/mn/data\n",
      "creating build/bdist.macosx-11.3-x86_64/egg/transliterate/contrib/languages/el\n",
      "copying build/lib/transliterate/contrib/languages/el/__init__.py -> build/bdist.macosx-11.3-x86_64/egg/transliterate/contrib/languages/el\n",
      "copying build/lib/transliterate/contrib/languages/el/translit_language_pack.py -> build/bdist.macosx-11.3-x86_64/egg/transliterate/contrib/languages/el\n",
      "creating build/bdist.macosx-11.3-x86_64/egg/transliterate/contrib/languages/el/data\n",
      "copying build/lib/transliterate/contrib/languages/el/data/__init__.py -> build/bdist.macosx-11.3-x86_64/egg/transliterate/contrib/languages/el/data\n",
      "copying build/lib/transliterate/contrib/languages/el/data/default.py -> build/bdist.macosx-11.3-x86_64/egg/transliterate/contrib/languages/el/data\n",
      "creating build/bdist.macosx-11.3-x86_64/egg/transliterate/contrib/languages/ru\n",
      "copying build/lib/transliterate/contrib/languages/ru/__init__.py -> build/bdist.macosx-11.3-x86_64/egg/transliterate/contrib/languages/ru\n",
      "copying build/lib/transliterate/contrib/languages/ru/translit_language_pack.py -> build/bdist.macosx-11.3-x86_64/egg/transliterate/contrib/languages/ru\n",
      "creating build/bdist.macosx-11.3-x86_64/egg/transliterate/contrib/languages/ru/data\n",
      "copying build/lib/transliterate/contrib/languages/ru/data/gost_16876_71.py -> build/bdist.macosx-11.3-x86_64/egg/transliterate/contrib/languages/ru/data\n",
      "copying build/lib/transliterate/contrib/languages/ru/data/gost_52535_1_2006.py -> build/bdist.macosx-11.3-x86_64/egg/transliterate/contrib/languages/ru/data\n",
      "copying build/lib/transliterate/contrib/languages/ru/data/__init__.py -> build/bdist.macosx-11.3-x86_64/egg/transliterate/contrib/languages/ru/data\n",
      "copying build/lib/transliterate/contrib/languages/ru/data/default.py -> build/bdist.macosx-11.3-x86_64/egg/transliterate/contrib/languages/ru/data\n",
      "copying build/lib/transliterate/contrib/languages/ru/data/iso9.py -> build/bdist.macosx-11.3-x86_64/egg/transliterate/contrib/languages/ru/data\n",
      "copying build/lib/transliterate/contrib/languages/ru/data/gost_7_79.py -> build/bdist.macosx-11.3-x86_64/egg/transliterate/contrib/languages/ru/data\n",
      "copying build/lib/transliterate/contrib/languages/ru/data/ala-lc.py -> build/bdist.macosx-11.3-x86_64/egg/transliterate/contrib/languages/ru/data\n",
      "copying build/lib/transliterate/contrib/languages/__init__.py -> build/bdist.macosx-11.3-x86_64/egg/transliterate/contrib/languages\n",
      "creating build/bdist.macosx-11.3-x86_64/egg/transliterate/contrib/languages/uk\n",
      "copying build/lib/transliterate/contrib/languages/uk/__init__.py -> build/bdist.macosx-11.3-x86_64/egg/transliterate/contrib/languages/uk\n",
      "copying build/lib/transliterate/contrib/languages/uk/translit_language_pack.py -> build/bdist.macosx-11.3-x86_64/egg/transliterate/contrib/languages/uk\n",
      "creating build/bdist.macosx-11.3-x86_64/egg/transliterate/contrib/languages/uk/data\n",
      "copying build/lib/transliterate/contrib/languages/uk/data/__init__.py -> build/bdist.macosx-11.3-x86_64/egg/transliterate/contrib/languages/uk/data\n",
      "copying build/lib/transliterate/contrib/languages/uk/data/default.py -> build/bdist.macosx-11.3-x86_64/egg/transliterate/contrib/languages/uk/data\n",
      "creating build/bdist.macosx-11.3-x86_64/egg/transliterate/contrib/languages/sr\n",
      "copying build/lib/transliterate/contrib/languages/sr/__init__.py -> build/bdist.macosx-11.3-x86_64/egg/transliterate/contrib/languages/sr\n",
      "copying build/lib/transliterate/contrib/languages/sr/translit_language_pack.py -> build/bdist.macosx-11.3-x86_64/egg/transliterate/contrib/languages/sr\n",
      "creating build/bdist.macosx-11.3-x86_64/egg/transliterate/contrib/languages/sr/data\n",
      "copying build/lib/transliterate/contrib/languages/sr/data/__init__.py -> build/bdist.macosx-11.3-x86_64/egg/transliterate/contrib/languages/sr/data\n",
      "copying build/lib/transliterate/contrib/languages/sr/data/default.py -> build/bdist.macosx-11.3-x86_64/egg/transliterate/contrib/languages/sr/data\n",
      "creating build/bdist.macosx-11.3-x86_64/egg/transliterate/contrib/languages/mk\n",
      "copying build/lib/transliterate/contrib/languages/mk/__init__.py -> build/bdist.macosx-11.3-x86_64/egg/transliterate/contrib/languages/mk\n",
      "copying build/lib/transliterate/contrib/languages/mk/translit_language_pack.py -> build/bdist.macosx-11.3-x86_64/egg/transliterate/contrib/languages/mk\n",
      "creating build/bdist.macosx-11.3-x86_64/egg/transliterate/contrib/languages/mk/data\n",
      "copying build/lib/transliterate/contrib/languages/mk/data/__init__.py -> build/bdist.macosx-11.3-x86_64/egg/transliterate/contrib/languages/mk/data\n",
      "copying build/lib/transliterate/contrib/languages/mk/data/default.py -> build/bdist.macosx-11.3-x86_64/egg/transliterate/contrib/languages/mk/data\n",
      "creating build/bdist.macosx-11.3-x86_64/egg/transliterate/contrib/languages/bg\n",
      "copying build/lib/transliterate/contrib/languages/bg/__init__.py -> build/bdist.macosx-11.3-x86_64/egg/transliterate/contrib/languages/bg\n",
      "copying build/lib/transliterate/contrib/languages/bg/translit_language_pack.py -> build/bdist.macosx-11.3-x86_64/egg/transliterate/contrib/languages/bg\n",
      "creating build/bdist.macosx-11.3-x86_64/egg/transliterate/contrib/languages/bg/data\n",
      "copying build/lib/transliterate/contrib/languages/bg/data/__init__.py -> build/bdist.macosx-11.3-x86_64/egg/transliterate/contrib/languages/bg/data\n",
      "copying build/lib/transliterate/contrib/languages/bg/data/default.py -> build/bdist.macosx-11.3-x86_64/egg/transliterate/contrib/languages/bg/data\n",
      "creating build/bdist.macosx-11.3-x86_64/egg/transliterate/contrib/languages/hi\n",
      "copying build/lib/transliterate/contrib/languages/hi/__init__.py -> build/bdist.macosx-11.3-x86_64/egg/transliterate/contrib/languages/hi\n",
      "copying build/lib/transliterate/contrib/languages/hi/translit_language_pack.py -> build/bdist.macosx-11.3-x86_64/egg/transliterate/contrib/languages/hi\n",
      "creating build/bdist.macosx-11.3-x86_64/egg/transliterate/contrib/languages/ka\n",
      "copying build/lib/transliterate/contrib/languages/ka/__init__.py -> build/bdist.macosx-11.3-x86_64/egg/transliterate/contrib/languages/ka\n",
      "copying build/lib/transliterate/contrib/languages/ka/translit_language_pack.py -> build/bdist.macosx-11.3-x86_64/egg/transliterate/contrib/languages/ka\n",
      "creating build/bdist.macosx-11.3-x86_64/egg/transliterate/contrib/languages/ka/data\n",
      "copying build/lib/transliterate/contrib/languages/ka/data/__init__.py -> build/bdist.macosx-11.3-x86_64/egg/transliterate/contrib/languages/ka/data\n",
      "copying build/lib/transliterate/contrib/languages/ka/data/default.py -> build/bdist.macosx-11.3-x86_64/egg/transliterate/contrib/languages/ka/data\n",
      "creating build/bdist.macosx-11.3-x86_64/egg/transliterate/contrib/languages/l1\n",
      "copying build/lib/transliterate/contrib/languages/l1/__init__.py -> build/bdist.macosx-11.3-x86_64/egg/transliterate/contrib/languages/l1\n",
      "copying build/lib/transliterate/contrib/languages/l1/translit_language_pack.py -> build/bdist.macosx-11.3-x86_64/egg/transliterate/contrib/languages/l1\n",
      "creating build/bdist.macosx-11.3-x86_64/egg/transliterate/contrib/languages/l1/data\n",
      "copying build/lib/transliterate/contrib/languages/l1/data/__init__.py -> build/bdist.macosx-11.3-x86_64/egg/transliterate/contrib/languages/l1/data\n",
      "copying build/lib/transliterate/contrib/languages/l1/data/default.py -> build/bdist.macosx-11.3-x86_64/egg/transliterate/contrib/languages/l1/data\n",
      "creating build/bdist.macosx-11.3-x86_64/egg/transliterate/contrib/apps\n",
      "creating build/bdist.macosx-11.3-x86_64/egg/transliterate/contrib/apps/translipsum\n",
      "copying build/lib/transliterate/contrib/apps/translipsum/__init__.py -> build/bdist.macosx-11.3-x86_64/egg/transliterate/contrib/apps/translipsum\n",
      "copying build/lib/transliterate/contrib/apps/translipsum/utils.py -> build/bdist.macosx-11.3-x86_64/egg/transliterate/contrib/apps/translipsum\n",
      "copying build/lib/transliterate/contrib/apps/__init__.py -> build/bdist.macosx-11.3-x86_64/egg/transliterate/contrib/apps\n",
      "copying build/lib/transliterate/utils.py -> build/bdist.macosx-11.3-x86_64/egg/transliterate\n",
      "copying build/lib/transliterate/exceptions.py -> build/bdist.macosx-11.3-x86_64/egg/transliterate\n",
      "copying build/lib/transliterate/defaults.py -> build/bdist.macosx-11.3-x86_64/egg/transliterate\n",
      "copying build/lib/transliterate/helpers.py -> build/bdist.macosx-11.3-x86_64/egg/transliterate\n",
      "copying build/lib/transliterate/base.py -> build/bdist.macosx-11.3-x86_64/egg/transliterate\n",
      "copying build/lib/transliterate/decorators.py -> build/bdist.macosx-11.3-x86_64/egg/transliterate\n",
      "byte-compiling build/bdist.macosx-11.3-x86_64/egg/transliterate/discover.py to discover.cpython-36.pyc\n",
      "byte-compiling build/bdist.macosx-11.3-x86_64/egg/transliterate/conf.py to conf.cpython-36.pyc\n",
      "byte-compiling build/bdist.macosx-11.3-x86_64/egg/transliterate/tests/__init__.py to __init__.cpython-36.pyc\n",
      "byte-compiling build/bdist.macosx-11.3-x86_64/egg/transliterate/tests/defaults.py to defaults.cpython-36.pyc\n",
      "byte-compiling build/bdist.macosx-11.3-x86_64/egg/transliterate/tests/test_transliterate.py to test_transliterate.cpython-36.pyc\n",
      "byte-compiling build/bdist.macosx-11.3-x86_64/egg/transliterate/tests/data/__init__.py to __init__.cpython-36.pyc\n",
      "byte-compiling build/bdist.macosx-11.3-x86_64/egg/transliterate/tests/data/default.py to default.cpython-36.pyc\n",
      "byte-compiling build/bdist.macosx-11.3-x86_64/egg/transliterate/tests/helpers.py to helpers.cpython-36.pyc\n",
      "byte-compiling build/bdist.macosx-11.3-x86_64/egg/transliterate/tests/base.py to base.cpython-36.pyc\n",
      "byte-compiling build/bdist.macosx-11.3-x86_64/egg/transliterate/__init__.py to __init__.cpython-36.pyc\n",
      "byte-compiling build/bdist.macosx-11.3-x86_64/egg/transliterate/contrib/__init__.py to __init__.cpython-36.pyc\n",
      "byte-compiling build/bdist.macosx-11.3-x86_64/egg/transliterate/contrib/languages/he/__init__.py to __init__.cpython-36.pyc\n",
      "byte-compiling build/bdist.macosx-11.3-x86_64/egg/transliterate/contrib/languages/he/translit_language_pack.py to translit_language_pack.cpython-36.pyc\n",
      "byte-compiling build/bdist.macosx-11.3-x86_64/egg/transliterate/contrib/languages/hy/__init__.py to __init__.cpython-36.pyc\n",
      "byte-compiling build/bdist.macosx-11.3-x86_64/egg/transliterate/contrib/languages/hy/translit_language_pack.py to translit_language_pack.cpython-36.pyc\n",
      "byte-compiling build/bdist.macosx-11.3-x86_64/egg/transliterate/contrib/languages/hy/data/__init__.py to __init__.cpython-36.pyc\n",
      "byte-compiling build/bdist.macosx-11.3-x86_64/egg/transliterate/contrib/languages/hy/data/default.py to default.cpython-36.pyc\n",
      "byte-compiling build/bdist.macosx-11.3-x86_64/egg/transliterate/contrib/languages/mn/__init__.py to __init__.cpython-36.pyc\n",
      "byte-compiling build/bdist.macosx-11.3-x86_64/egg/transliterate/contrib/languages/mn/translit_language_pack.py to translit_language_pack.cpython-36.pyc\n",
      "byte-compiling build/bdist.macosx-11.3-x86_64/egg/transliterate/contrib/languages/mn/data/__init__.py to __init__.cpython-36.pyc\n",
      "byte-compiling build/bdist.macosx-11.3-x86_64/egg/transliterate/contrib/languages/mn/data/default.py to default.cpython-36.pyc\n",
      "byte-compiling build/bdist.macosx-11.3-x86_64/egg/transliterate/contrib/languages/el/__init__.py to __init__.cpython-36.pyc\n",
      "byte-compiling build/bdist.macosx-11.3-x86_64/egg/transliterate/contrib/languages/el/translit_language_pack.py to translit_language_pack.cpython-36.pyc\n",
      "byte-compiling build/bdist.macosx-11.3-x86_64/egg/transliterate/contrib/languages/el/data/__init__.py to __init__.cpython-36.pyc\n"
     ]
    },
    {
     "name": "stdout",
     "output_type": "stream",
     "text": [
      "byte-compiling build/bdist.macosx-11.3-x86_64/egg/transliterate/contrib/languages/el/data/default.py to default.cpython-36.pyc\n",
      "byte-compiling build/bdist.macosx-11.3-x86_64/egg/transliterate/contrib/languages/ru/__init__.py to __init__.cpython-36.pyc\n",
      "byte-compiling build/bdist.macosx-11.3-x86_64/egg/transliterate/contrib/languages/ru/translit_language_pack.py to translit_language_pack.cpython-36.pyc\n",
      "byte-compiling build/bdist.macosx-11.3-x86_64/egg/transliterate/contrib/languages/ru/data/gost_16876_71.py to gost_16876_71.cpython-36.pyc\n",
      "byte-compiling build/bdist.macosx-11.3-x86_64/egg/transliterate/contrib/languages/ru/data/gost_52535_1_2006.py to gost_52535_1_2006.cpython-36.pyc\n",
      "byte-compiling build/bdist.macosx-11.3-x86_64/egg/transliterate/contrib/languages/ru/data/__init__.py to __init__.cpython-36.pyc\n",
      "byte-compiling build/bdist.macosx-11.3-x86_64/egg/transliterate/contrib/languages/ru/data/default.py to default.cpython-36.pyc\n",
      "byte-compiling build/bdist.macosx-11.3-x86_64/egg/transliterate/contrib/languages/ru/data/iso9.py to iso9.cpython-36.pyc\n",
      "byte-compiling build/bdist.macosx-11.3-x86_64/egg/transliterate/contrib/languages/ru/data/gost_7_79.py to gost_7_79.cpython-36.pyc\n",
      "byte-compiling build/bdist.macosx-11.3-x86_64/egg/transliterate/contrib/languages/ru/data/ala-lc.py to ala-lc.cpython-36.pyc\n",
      "byte-compiling build/bdist.macosx-11.3-x86_64/egg/transliterate/contrib/languages/__init__.py to __init__.cpython-36.pyc\n",
      "byte-compiling build/bdist.macosx-11.3-x86_64/egg/transliterate/contrib/languages/uk/__init__.py to __init__.cpython-36.pyc\n",
      "byte-compiling build/bdist.macosx-11.3-x86_64/egg/transliterate/contrib/languages/uk/translit_language_pack.py to translit_language_pack.cpython-36.pyc\n",
      "byte-compiling build/bdist.macosx-11.3-x86_64/egg/transliterate/contrib/languages/uk/data/__init__.py to __init__.cpython-36.pyc\n",
      "byte-compiling build/bdist.macosx-11.3-x86_64/egg/transliterate/contrib/languages/uk/data/default.py to default.cpython-36.pyc\n",
      "byte-compiling build/bdist.macosx-11.3-x86_64/egg/transliterate/contrib/languages/sr/__init__.py to __init__.cpython-36.pyc\n",
      "byte-compiling build/bdist.macosx-11.3-x86_64/egg/transliterate/contrib/languages/sr/translit_language_pack.py to translit_language_pack.cpython-36.pyc\n",
      "byte-compiling build/bdist.macosx-11.3-x86_64/egg/transliterate/contrib/languages/sr/data/__init__.py to __init__.cpython-36.pyc\n",
      "byte-compiling build/bdist.macosx-11.3-x86_64/egg/transliterate/contrib/languages/sr/data/default.py to default.cpython-36.pyc\n",
      "byte-compiling build/bdist.macosx-11.3-x86_64/egg/transliterate/contrib/languages/mk/__init__.py to __init__.cpython-36.pyc\n",
      "byte-compiling build/bdist.macosx-11.3-x86_64/egg/transliterate/contrib/languages/mk/translit_language_pack.py to translit_language_pack.cpython-36.pyc\n",
      "byte-compiling build/bdist.macosx-11.3-x86_64/egg/transliterate/contrib/languages/mk/data/__init__.py to __init__.cpython-36.pyc\n",
      "byte-compiling build/bdist.macosx-11.3-x86_64/egg/transliterate/contrib/languages/mk/data/default.py to default.cpython-36.pyc\n",
      "byte-compiling build/bdist.macosx-11.3-x86_64/egg/transliterate/contrib/languages/bg/__init__.py to __init__.cpython-36.pyc\n",
      "byte-compiling build/bdist.macosx-11.3-x86_64/egg/transliterate/contrib/languages/bg/translit_language_pack.py to translit_language_pack.cpython-36.pyc\n",
      "byte-compiling build/bdist.macosx-11.3-x86_64/egg/transliterate/contrib/languages/bg/data/__init__.py to __init__.cpython-36.pyc\n",
      "byte-compiling build/bdist.macosx-11.3-x86_64/egg/transliterate/contrib/languages/bg/data/default.py to default.cpython-36.pyc\n",
      "byte-compiling build/bdist.macosx-11.3-x86_64/egg/transliterate/contrib/languages/hi/__init__.py to __init__.cpython-36.pyc\n",
      "byte-compiling build/bdist.macosx-11.3-x86_64/egg/transliterate/contrib/languages/hi/translit_language_pack.py to translit_language_pack.cpython-36.pyc\n",
      "byte-compiling build/bdist.macosx-11.3-x86_64/egg/transliterate/contrib/languages/ka/__init__.py to __init__.cpython-36.pyc\n",
      "byte-compiling build/bdist.macosx-11.3-x86_64/egg/transliterate/contrib/languages/ka/translit_language_pack.py to translit_language_pack.cpython-36.pyc\n",
      "byte-compiling build/bdist.macosx-11.3-x86_64/egg/transliterate/contrib/languages/ka/data/__init__.py to __init__.cpython-36.pyc\n",
      "byte-compiling build/bdist.macosx-11.3-x86_64/egg/transliterate/contrib/languages/ka/data/default.py to default.cpython-36.pyc\n",
      "byte-compiling build/bdist.macosx-11.3-x86_64/egg/transliterate/contrib/languages/l1/__init__.py to __init__.cpython-36.pyc\n",
      "byte-compiling build/bdist.macosx-11.3-x86_64/egg/transliterate/contrib/languages/l1/translit_language_pack.py to translit_language_pack.cpython-36.pyc\n",
      "byte-compiling build/bdist.macosx-11.3-x86_64/egg/transliterate/contrib/languages/l1/data/__init__.py to __init__.cpython-36.pyc\n",
      "byte-compiling build/bdist.macosx-11.3-x86_64/egg/transliterate/contrib/languages/l1/data/default.py to default.cpython-36.pyc\n",
      "byte-compiling build/bdist.macosx-11.3-x86_64/egg/transliterate/contrib/apps/translipsum/__init__.py to __init__.cpython-36.pyc\n",
      "byte-compiling build/bdist.macosx-11.3-x86_64/egg/transliterate/contrib/apps/translipsum/utils.py to utils.cpython-36.pyc\n",
      "byte-compiling build/bdist.macosx-11.3-x86_64/egg/transliterate/contrib/apps/__init__.py to __init__.cpython-36.pyc\n",
      "byte-compiling build/bdist.macosx-11.3-x86_64/egg/transliterate/utils.py to utils.cpython-36.pyc\n",
      "byte-compiling build/bdist.macosx-11.3-x86_64/egg/transliterate/exceptions.py to exceptions.cpython-36.pyc\n",
      "byte-compiling build/bdist.macosx-11.3-x86_64/egg/transliterate/defaults.py to defaults.cpython-36.pyc\n",
      "byte-compiling build/bdist.macosx-11.3-x86_64/egg/transliterate/helpers.py to helpers.cpython-36.pyc\n",
      "byte-compiling build/bdist.macosx-11.3-x86_64/egg/transliterate/base.py to base.cpython-36.pyc\n",
      "byte-compiling build/bdist.macosx-11.3-x86_64/egg/transliterate/decorators.py to decorators.cpython-36.pyc\n",
      "creating build/bdist.macosx-11.3-x86_64/egg/EGG-INFO\n",
      "copying src/transliterate.egg-info/PKG-INFO -> build/bdist.macosx-11.3-x86_64/egg/EGG-INFO\n",
      "copying src/transliterate.egg-info/SOURCES.txt -> build/bdist.macosx-11.3-x86_64/egg/EGG-INFO\n",
      "copying src/transliterate.egg-info/dependency_links.txt -> build/bdist.macosx-11.3-x86_64/egg/EGG-INFO\n",
      "copying src/transliterate.egg-info/requires.txt -> build/bdist.macosx-11.3-x86_64/egg/EGG-INFO\n",
      "copying src/transliterate.egg-info/top_level.txt -> build/bdist.macosx-11.3-x86_64/egg/EGG-INFO\n",
      "zip_safe flag not set; analyzing archive contents...\n",
      "transliterate.__pycache__.helpers.cpython-36: module references __file__\n",
      "creating 'dist/transliterate-2.10.2-py3.6.egg' and adding 'build/bdist.macosx-11.3-x86_64/egg' to it\n",
      "removing 'build/bdist.macosx-11.3-x86_64/egg' (and everything under it)\n",
      "Processing transliterate-2.10.2-py3.6.egg\n",
      "creating /Users/peihuaining/.pyenv/versions/3.6.8/envs/env368/lib/python3.6/site-packages/transliterate-2.10.2-py3.6.egg\n",
      "Extracting transliterate-2.10.2-py3.6.egg to /Users/peihuaining/.pyenv/versions/3.6.8/envs/env368/lib/python3.6/site-packages\n",
      "Adding transliterate 2.10.2 to easy-install.pth file\n",
      "\n",
      "Installed /Users/peihuaining/.pyenv/versions/3.6.8/envs/env368/lib/python3.6/site-packages/transliterate-2.10.2-py3.6.egg\n",
      "Processing dependencies for transliterate==2.10.2\n",
      "Searching for six==1.16.0\n",
      "Best match: six 1.16.0\n",
      "Adding six 1.16.0 to easy-install.pth file\n",
      "\n",
      "Using /Users/peihuaining/.pyenv/versions/3.6.8/envs/env368/lib/python3.6/site-packages\n",
      "Finished processing dependencies for transliterate==2.10.2\n"
     ]
    }
   ],
   "source": [
    "!python setup.py install"
   ]
  },
  {
   "cell_type": "code",
   "execution_count": 7,
   "metadata": {},
   "outputs": [
    {
     "ename": "ModuleNotFoundError",
     "evalue": "No module named 'hunspell'",
     "output_type": "error",
     "traceback": [
      "\u001b[0;31m---------------------------------------------------------------------------\u001b[0m",
      "\u001b[0;31mModuleNotFoundError\u001b[0m                       Traceback (most recent call last)",
      "\u001b[0;32m<ipython-input-7-049432055e29>\u001b[0m in \u001b[0;36m<module>\u001b[0;34m\u001b[0m\n\u001b[1;32m      1\u001b[0m \u001b[0;32mimport\u001b[0m \u001b[0mre\u001b[0m\u001b[0;34m\u001b[0m\u001b[0;34m\u001b[0m\u001b[0m\n\u001b[0;32m----> 2\u001b[0;31m \u001b[0;32mimport\u001b[0m \u001b[0mhunspell\u001b[0m\u001b[0;34m\u001b[0m\u001b[0;34m\u001b[0m\u001b[0m\n\u001b[0m\u001b[1;32m      3\u001b[0m \u001b[0;32mimport\u001b[0m \u001b[0mtransliterate\u001b[0m\u001b[0;34m\u001b[0m\u001b[0;34m\u001b[0m\u001b[0m\n\u001b[1;32m      4\u001b[0m \u001b[0;32mfrom\u001b[0m \u001b[0mtransliterate\u001b[0m\u001b[0;34m.\u001b[0m\u001b[0mdiscover\u001b[0m \u001b[0;32mimport\u001b[0m \u001b[0mautodiscover\u001b[0m\u001b[0;34m\u001b[0m\u001b[0;34m\u001b[0m\u001b[0m\n\u001b[1;32m      5\u001b[0m \u001b[0;32mfrom\u001b[0m \u001b[0mtransliterate\u001b[0m\u001b[0;34m.\u001b[0m\u001b[0mconf\u001b[0m \u001b[0;32mimport\u001b[0m \u001b[0mset_setting\u001b[0m\u001b[0;34m\u001b[0m\u001b[0;34m\u001b[0m\u001b[0m\n",
      "\u001b[0;31mModuleNotFoundError\u001b[0m: No module named 'hunspell'"
     ]
    }
   ],
   "source": [
    "import re\n",
    "import hunspell\n",
    "import transliterate\n",
    "from transliterate.discover import autodiscover\n",
    "from transliterate.conf import set_setting\n",
    "from transliterate import get_available_language_codes, translit"
   ]
  },
  {
   "cell_type": "code",
   "execution_count": null,
   "metadata": {},
   "outputs": [],
   "source": [
    "txt=\"Yagaad Amerikchuud Mongolchuudad sanaa tavih bilee? Bidnii hoorond urag sadan, uuh tuuhiin yamar holboo baigaa bilee? Bodood bodood bodiin shiir 4 l bolood baidag??? Aa neeree bidend Arschilal geech saihan yum ogluu? Tegeed yadag bilee? Suuliin 30 jiliin Ih Hyamral nuurlej hamag baylag gadagshaa zoogdoj Mongolchuud toriin ajlaa tedenguigeer hiij chadahaa bolidog biluu??\""
   ]
  },
  {
   "cell_type": "code",
   "execution_count": null,
   "metadata": {},
   "outputs": [],
   "source": [
    "def seg_tail_split(str1,sep=r',|\\.|/|;|\\'|`|\\[|\\]|<|>|\\?|:|\"|\\{|\\}|\\~|!|@|#|\\$|%|\\^|&|\\(|\\)|-|=|\\_|\\+|，|。|、|；|‘|’|【|】|·|！|…|（|）'): # 分隔符可为多样的正则表达式\n",
    "    # 保留分割符号，置于句尾，比如标点符号\n",
    "    wlist = re.split(sep,str1)\n",
    "    seg_word = re.findall(sep,str1)\n",
    "    seg_word.extend(\" \") # 末尾插入一个空字符串，以保持长度和切割成分相同\n",
    "    wlist = [ x+y for x,y in zip(wlist,seg_word) ] # 顺序可根据需求调换\n",
    "    return wlist\n",
    "\n",
    "\n",
    "res = seg_tail_split(txt)\n",
    "\n",
    "\n",
    "print(res)"
   ]
  },
  {
   "cell_type": "code",
   "execution_count": null,
   "metadata": {},
   "outputs": [],
   "source": [
    "result=[]\n",
    "for tempstr in res:\n",
    "  tempstr=translit(tempstr.lower(),'mn').strip().capitalize()\n",
    "  result.append(tempstr)"
   ]
  },
  {
   "cell_type": "code",
   "execution_count": null,
   "metadata": {},
   "outputs": [],
   "source": []
  }
 ],
 "metadata": {
  "kernelspec": {
   "display_name": "env368",
   "language": "python",
   "name": "env368"
  },
  "language_info": {
   "codemirror_mode": {
    "name": "ipython",
    "version": 3
   },
   "file_extension": ".py",
   "mimetype": "text/x-python",
   "name": "python",
   "nbconvert_exporter": "python",
   "pygments_lexer": "ipython3",
   "version": "3.8.5"
  }
 },
 "nbformat": 4,
 "nbformat_minor": 4
}
